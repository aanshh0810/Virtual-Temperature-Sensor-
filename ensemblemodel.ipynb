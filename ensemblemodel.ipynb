{
 "cells": [
  {
   "cell_type": "code",
   "execution_count": null,
   "id": "dbd31115",
   "metadata": {},
   "outputs": [],
   "source": [
    "import pandas as pd\n",
    "import numpy as np\n",
    "from sklearn.model_selection import train_test_split\n",
    "from sklearn.preprocessing import StandardScaler\n",
    "from sklearn.linear_model import LinearRegression, Ridge\n",
    "from sklearn.ensemble import RandomForestRegressor, StackingRegressor\n",
    "from sklearn.neural_network import MLPRegressor\n",
    "from sklearn.pipeline import make_pipeline\n",
    "from sklearn.metrics import r2_score, mean_squared_error\n",
    "\n",
    "# Load data\n",
    "df = pd.read_csv(\"measures_v2.csv\")\n",
    "\n",
    "# Drop weak features\n",
    "df = df.drop(columns=[\"ambient\", \"u_d\"], errors='ignore')\n",
    "\n",
    "# Define target and features\n",
    "y = df['coolant']\n",
    "X = df.drop(columns=['coolant', 'stator_yoke', 'stator_tooth', 'stator_winding', 'pm'], errors='ignore')\n",
    "\n",
    "# Train-test split\n",
    "X_train, X_test, y_train, y_test = train_test_split(X, y, test_size=0.2, random_state=42)\n",
    "\n",
    "# Scale\n",
    "scaler = StandardScaler()\n",
    "X_train_scaled = scaler.fit_transform(X_train)\n",
    "X_test_scaled = scaler.transform(X_test)\n",
    "\n",
    "# Base models\n",
    "base_models = [\n",
    "    ('lr', make_pipeline(StandardScaler(), LinearRegression())),\n",
    "    ('rf', RandomForestRegressor(n_estimators=100, random_state=42)),\n",
    "    ('mlp', make_pipeline(StandardScaler(), MLPRegressor(hidden_layer_sizes=(64, 64), max_iter=500, random_state=42)))\n",
    "]\n",
    "\n",
    "# Final estimator\n",
    "meta_model = Ridge()\n",
    "\n",
    "# Ensemble model\n",
    "ensemble = StackingRegressor(estimators=base_models, final_estimator=meta_model)\n",
    "ensemble.fit(X_train_scaled, y_train)\n",
    "\n",
    "# Predict and evaluate\n",
    "y_pred = ensemble.predict(X_test_scaled)\n",
    "r2 = r2_score(y_test, y_pred)\n",
    "rmse = mean_squared_error(y_test, y_pred, squared=False)\n",
    "\n",
    "print(\"📈 Ensemble Model Performance\")\n",
    "print(\"✅ R² Score:\", r2)\n",
    "print(\"✅ RMSE:\", rmse)\n"
   ]
  },
  {
   "cell_type": "code",
   "execution_count": null,
   "id": "544cabbe",
   "metadata": {},
   "outputs": [],
   "source": []
  },
  {
   "cell_type": "code",
   "execution_count": null,
   "id": "79a6fcc9",
   "metadata": {},
   "outputs": [],
   "source": []
  }
 ],
 "metadata": {
  "kernelspec": {
   "display_name": "base",
   "language": "python",
   "name": "python3"
  },
  "language_info": {
   "codemirror_mode": {
    "name": "ipython",
    "version": 3
   },
   "file_extension": ".py",
   "mimetype": "text/x-python",
   "name": "python",
   "nbconvert_exporter": "python",
   "pygments_lexer": "ipython3",
   "version": "3.12.7"
  }
 },
 "nbformat": 4,
 "nbformat_minor": 5
}
